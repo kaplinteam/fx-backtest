{
 "cells": [
  {
   "cell_type": "code",
   "execution_count": 38,
   "metadata": {},
   "outputs": [
    {
     "ename": "",
     "evalue": "",
     "output_type": "error",
     "traceback": [
      "\u001b[1;31mThe Kernel crashed while executing code in the the current cell or a previous cell. Please review the code in the cell(s) to identify a possible cause of the failure. Click <a href='https://aka.ms/vscodeJupyterKernelCrash'>here</a> for more info. View Jupyter <a href='command:jupyter.viewOutput'>log</a> for further details."
     ]
    }
   ],
   "source": [
    "import pystore\n",
    "import dask.dataframe as dd\n",
    "\n",
    "df = dd.read_csv(\n",
    "    \"EURUSD.csv.gz\",\n",
    "    blocksize=None,\n",
    "    header=None,\n",
    "    names=[\"timestamp\", \"bid\", \"ask\", \"bid_size\", \"ask_size\"],\n",
    "    parse_dates=[\"timestamp\"],\n",
    ")\n",
    "df = df.set_index(\"timestamp\", sorted=True)\n",
    "df[\"bid\"] = df[\"bid\"] * 0.00001\n",
    "df[\"ask\"] = df[\"ask\"] * 0.00001\n",
    "\n",
    "# Store it\n",
    "pystore.set_path(\"pystore\")\n",
    "store = pystore.store(\"ticks\")\n",
    "collection = store.collection(\"FX\")\n",
    "if \"EURUSD\" in collection.items:\n",
    "    df = dd.concat([collection.item(\"EURUSD\").data, df])\n",
    "    df = df.reset_index()\n",
    "    df = df.drop_duplicates(keep=\"last\", subset=\"timestamp\")\n",
    "    df = df.set_index(\"timestamp\", sorted=True)\n",
    "\n",
    "collection.write(\"EURUSD\", df, metadata={\"source\": \"Dukascopy\"}, overwrite=True)"
   ]
  },
  {
   "cell_type": "code",
   "execution_count": 19,
   "metadata": {},
   "outputs": [
    {
     "data": {
      "text/plain": [
       "{'EURUSD'}"
      ]
     },
     "execution_count": 19,
     "metadata": {},
     "output_type": "execute_result"
    }
   ],
   "source": [
    "import dask\n",
    "import pandas as pd\n",
    "import dask.dataframe as dd\n",
    "import hvplot.dask"
   ]
  },
  {
   "cell_type": "code",
   "execution_count": 35,
   "metadata": {},
   "outputs": [
    {
     "data": {
      "text/plain": [
       "2673256"
      ]
     },
     "execution_count": 35,
     "metadata": {},
     "output_type": "execute_result"
    }
   ],
   "source": [
    "df = collection.item(\"EURUSD\").data\n",
    "df.size.compute()"
   ]
  },
  {
   "cell_type": "code",
   "execution_count": 36,
   "metadata": {},
   "outputs": [
    {
     "data": {
      "text/plain": [
       "1290908"
      ]
     },
     "execution_count": 36,
     "metadata": {},
     "output_type": "execute_result"
    }
   ],
   "source": [
    "df.drop_duplicates(keep=\"last\").size.compute()"
   ]
  },
  {
   "cell_type": "code",
   "execution_count": null,
   "metadata": {},
   "outputs": [],
   "source": []
  }
 ],
 "metadata": {
  "kernelspec": {
   "display_name": "Python 3 (ipykernel)",
   "language": "python",
   "name": "python3"
  },
  "language_info": {
   "codemirror_mode": {
    "name": "ipython",
    "version": 3
   },
   "file_extension": ".py",
   "mimetype": "text/x-python",
   "name": "python",
   "nbconvert_exporter": "python",
   "pygments_lexer": "ipython3",
   "version": "3.10.4"
  },
  "orig_nbformat": 4
 },
 "nbformat": 4,
 "nbformat_minor": 2
}
