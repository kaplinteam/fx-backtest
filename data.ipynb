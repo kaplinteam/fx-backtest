{
 "cells": [
  {
   "cell_type": "code",
   "execution_count": 3,
   "metadata": {},
   "outputs": [],
   "source": [
    "import pystore\n",
    "import pandas as pd\n",
    "import dask.dataframe as dd\n",
    "\n",
    "# Load fro mthe store\n",
    "pystore.set_path(\"pystore\")\n",
    "store = pystore.store(\"ticks\")\n",
    "collection = store.collection(\"FX\")\n",
    "df = collection.item(\"EURUSD\").data"
   ]
  },
  {
   "cell_type": "code",
   "execution_count": 19,
   "metadata": {},
   "outputs": [
    {
     "data": {
      "text/plain": [
       "{'EURUSD'}"
      ]
     },
     "execution_count": 19,
     "metadata": {},
     "output_type": "execute_result"
    }
   ],
   "source": [
    "import dask\n",
    "import pandas as pd\n",
    "import dask.dataframe as dd\n",
    "import hvplot.dask"
   ]
  },
  {
   "cell_type": "code",
   "execution_count": null,
   "metadata": {},
   "outputs": [
    {
     "data": {
      "text/plain": [
       "Timestamp('2023-04-28 00:00:00.000131')"
      ]
     },
     "execution_count": 12,
     "metadata": {},
     "output_type": "execute_result"
    }
   ],
   "source": [
    "min(df.index)"
   ]
  },
  {
   "cell_type": "code",
   "execution_count": 4,
   "metadata": {},
   "outputs": [
    {
     "name": "stdout",
     "output_type": "stream",
     "text": [
      "293588\n"
     ]
    }
   ],
   "source": [
    "print(len(collection.item(\"EURUSD\").data))"
   ]
  },
  {
   "cell_type": "code",
   "execution_count": 3,
   "metadata": {},
   "outputs": [],
   "source": [
    "df = dd.read_csv(\n",
    "    f\"EURUSD.csv.gz\",\n",
    "    blocksize=None,\n",
    "    header=None,\n",
    "    names=[\"timestamp\", \"bid\", \"ask\", \"bid_size\", \"ask_size\"],\n",
    ")\n",
    "df[\"timestamp\"] = dd.to_datetime(df[\"timestamp\"], errors=\"coerce\")\n",
    "df = df.dropna()\n",
    "df = df.set_index(\"timestamp\", sorted=True)"
   ]
  },
  {
   "cell_type": "code",
   "execution_count": 7,
   "metadata": {},
   "outputs": [
    {
     "ename": "NotImplementedError",
     "evalue": "Passing a 'dask.dataframe.core.Index' to `isin`",
     "output_type": "error",
     "traceback": [
      "\u001b[0;31m---------------------------------------------------------------------------\u001b[0m",
      "\u001b[0;31mNotImplementedError\u001b[0m                       Traceback (most recent call last)",
      "Cell \u001b[0;32mIn[7], line 1\u001b[0m\n\u001b[0;32m----> 1\u001b[0m df\u001b[39m.\u001b[39;49mindex\u001b[39m.\u001b[39;49misin(collection\u001b[39m.\u001b[39;49mitem(\u001b[39m\"\u001b[39;49m\u001b[39mEURUSD\u001b[39;49m\u001b[39m\"\u001b[39;49m)\u001b[39m.\u001b[39;49mdata\u001b[39m.\u001b[39;49mindex)\n",
      "File \u001b[0;32m~/.local/lib/python3.10/site-packages/dask/dataframe/core.py:4160\u001b[0m, in \u001b[0;36mSeries.isin\u001b[0;34m(self, values)\u001b[0m\n\u001b[1;32m   4157\u001b[0m \u001b[39m@derived_from\u001b[39m(pd\u001b[39m.\u001b[39mSeries)\n\u001b[1;32m   4158\u001b[0m \u001b[39mdef\u001b[39;00m \u001b[39misin\u001b[39m(\u001b[39mself\u001b[39m, values):\n\u001b[1;32m   4159\u001b[0m     \u001b[39m# Added just to get the different docstring for Series\u001b[39;00m\n\u001b[0;32m-> 4160\u001b[0m     \u001b[39mreturn\u001b[39;00m \u001b[39msuper\u001b[39;49m()\u001b[39m.\u001b[39;49misin(values)\n",
      "File \u001b[0;32m~/.local/lib/python3.10/site-packages/dask/dataframe/core.py:3388\u001b[0m, in \u001b[0;36m_Frame.isin\u001b[0;34m(self, values)\u001b[0m\n\u001b[1;32m   3386\u001b[0m     bad_types \u001b[39m=\u001b[39m (_Frame,)\n\u001b[1;32m   3387\u001b[0m \u001b[39mif\u001b[39;00m \u001b[39misinstance\u001b[39m(values, bad_types):\n\u001b[0;32m-> 3388\u001b[0m     \u001b[39mraise\u001b[39;00m \u001b[39mNotImplementedError\u001b[39;00m(\u001b[39m\"\u001b[39m\u001b[39mPassing a \u001b[39m\u001b[39m%r\u001b[39;00m\u001b[39m to `isin`\u001b[39m\u001b[39m\"\u001b[39m \u001b[39m%\u001b[39m typename(\u001b[39mtype\u001b[39m(values)))\n\u001b[1;32m   3389\u001b[0m meta \u001b[39m=\u001b[39m \u001b[39mself\u001b[39m\u001b[39m.\u001b[39m_meta_nonempty\u001b[39m.\u001b[39misin(values)\n\u001b[1;32m   3390\u001b[0m \u001b[39m# We wrap values in a delayed for two reasons:\u001b[39;00m\n\u001b[1;32m   3391\u001b[0m \u001b[39m# - avoid serializing data in every task\u001b[39;00m\n\u001b[1;32m   3392\u001b[0m \u001b[39m# - avoid cost of traversal of large list in optimizations\u001b[39;00m\n",
      "\u001b[0;31mNotImplementedError\u001b[0m: Passing a 'dask.dataframe.core.Index' to `isin`"
     ]
    }
   ],
   "source": [
    "df.index.isin(collection.item(\"EURUSD\").data.index)"
   ]
  },
  {
   "cell_type": "code",
   "execution_count": 11,
   "metadata": {},
   "outputs": [
    {
     "data": {
      "text/plain": [
       "Dask Index Structure:\n",
       "npartitions=1\n",
       "0    int32\n",
       "0      ...\n",
       "Name: timestamp, dtype: int32\n",
       "Dask Name: dt-nanosecond, 8 graph layers"
      ]
     },
     "execution_count": 11,
     "metadata": {},
     "output_type": "execute_result"
    }
   ],
   "source": [
    "print(\"datetime\" in str(df.index.dtype), any(df.index.nanosecond) > 0)"
   ]
  },
  {
   "cell_type": "code",
   "execution_count": null,
   "metadata": {},
   "outputs": [],
   "source": []
  }
 ],
 "metadata": {
  "kernelspec": {
   "display_name": "Python 3 (ipykernel)",
   "language": "python",
   "name": "python3"
  },
  "language_info": {
   "codemirror_mode": {
    "name": "ipython",
    "version": 3
   },
   "file_extension": ".py",
   "mimetype": "text/x-python",
   "name": "python",
   "nbconvert_exporter": "python",
   "pygments_lexer": "ipython3",
   "version": "3.10.4"
  },
  "orig_nbformat": 4
 },
 "nbformat": 4,
 "nbformat_minor": 2
}
